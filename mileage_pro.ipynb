{
 "cells": [
  {
   "cell_type": "code",
   "execution_count": 1,
   "id": "4d2c1948",
   "metadata": {},
   "outputs": [
    {
     "name": "stderr",
     "output_type": "stream",
     "text": [
      "/Users/alicegoulley/.pyenv/versions/3.8.12/envs/lewagon/lib/python3.8/site-packages/snowflake/connector/options.py:96: UserWarning: You have an incompatible version of 'pyarrow' installed (4.0.1), please install a version that adheres to: 'pyarrow<6.1.0,>=6.0.0; extra == \"pandas\"'\n",
      "  warn_incompatible_dep(\n"
     ]
    }
   ],
   "source": [
    "#Snowflake\n",
    "from sqlalchemy import create_engine, sql\n",
    "from snowflake.sqlalchemy import URL\n",
    "\n",
    "#Librairies\n",
    "from os import environ\n",
    "import pandas as pd\n",
    "import matplotlib.pyplot as plt\n",
    "import numpy as np\n",
    "from pandas_profiling import ProfileReport\n",
    "import seaborn as sns\n",
    "%matplotlib inline"
   ]
  },
  {
   "cell_type": "code",
   "execution_count": 2,
   "id": "d7cc5aec",
   "metadata": {},
   "outputs": [],
   "source": [
    "url = URL(\n",
    "    account = environ.get('SNOWFLAKE_ACCOUNT'),\n",
    "    user = environ.get('SNOWFLAKE_USER'),\n",
    "    password = environ.get('SNOWFLAKE_PWD'),\n",
    "    database = 'production',\n",
    "    schema = 'common',\n",
    "    warehouse = environ.get('SNOWFLAKE_WH'),\n",
    "    role = environ.get('SNOWFLAKE_ROLE'),\n",
    ")"
   ]
  },
  {
   "cell_type": "code",
   "execution_count": 3,
   "id": "d486a649",
   "metadata": {},
   "outputs": [],
   "source": [
    "qstr = '''\n",
    "    \n",
    "    select distinct\n",
    "        rentals.id,\n",
    "        car_id,\n",
    "        precise_ends_at,\n",
    "        checkin_mileage,\n",
    "        checkout_mileage,\n",
    "        lag(checkout_mileage) over (partition by car_id order by precise_ends_at) as previous_checkout_mileage,\n",
    "        checkout_mileage - checkin_mileage as mileage_run\n",
    "\n",
    "    from common.rentals \n",
    "\n",
    "    left join common.cars\n",
    "        on rentals.car_id = cars.id \n",
    "\n",
    "    where rentals.state = 'ended'\n",
    "    and is_open\n",
    "    and cars.state = 'active'\n",
    "    and checkin_type = 'open'\n",
    "    and date(precise_ends_at) >= date_trunc(month,dateadd(month, -12, getdate()))\n",
    "\n",
    "\n",
    "\n",
    "'''\n"
   ]
  },
  {
   "cell_type": "code",
   "execution_count": 4,
   "id": "0da806c9",
   "metadata": {},
   "outputs": [],
   "source": [
    "engine_snowflake = create_engine(url)\n",
    "connection = engine_snowflake.connect()\n",
    "try:\n",
    "    df = pd.read_sql(\n",
    "        qstr, \n",
    "        engine_snowflake\n",
    "        \n",
    "    )\n",
    "    # You can directly cast the date columns as dates by adding in \n",
    "    # pd.read_sql_query the arg parse_dates=['name_column_date1','name_column_date2']\n",
    "finally:\n",
    "    connection.close()\n",
    "    engine_snowflake.dispose()"
   ]
  },
  {
   "cell_type": "code",
   "execution_count": 5,
   "id": "ada1228f",
   "metadata": {
    "scrolled": true
   },
   "outputs": [
    {
     "data": {
      "text/html": [
       "<div>\n",
       "<style scoped>\n",
       "    .dataframe tbody tr th:only-of-type {\n",
       "        vertical-align: middle;\n",
       "    }\n",
       "\n",
       "    .dataframe tbody tr th {\n",
       "        vertical-align: top;\n",
       "    }\n",
       "\n",
       "    .dataframe thead th {\n",
       "        text-align: right;\n",
       "    }\n",
       "</style>\n",
       "<table border=\"1\" class=\"dataframe\">\n",
       "  <thead>\n",
       "    <tr style=\"text-align: right;\">\n",
       "      <th></th>\n",
       "      <th>id</th>\n",
       "      <th>car_id</th>\n",
       "      <th>precise_ends_at</th>\n",
       "      <th>checkin_mileage</th>\n",
       "      <th>checkout_mileage</th>\n",
       "      <th>previous_checkout_mileage</th>\n",
       "      <th>mileage_run</th>\n",
       "    </tr>\n",
       "  </thead>\n",
       "  <tbody>\n",
       "    <tr>\n",
       "      <th>0</th>\n",
       "      <td>6131009</td>\n",
       "      <td>853912</td>\n",
       "      <td>2021-08-15 21:30:00</td>\n",
       "      <td>11837.0</td>\n",
       "      <td>13314.0</td>\n",
       "      <td>11837.0</td>\n",
       "      <td>1477.0</td>\n",
       "    </tr>\n",
       "    <tr>\n",
       "      <th>1</th>\n",
       "      <td>6268885</td>\n",
       "      <td>853912</td>\n",
       "      <td>2021-09-26 17:30:00</td>\n",
       "      <td>NaN</td>\n",
       "      <td>15016.0</td>\n",
       "      <td>NaN</td>\n",
       "      <td>NaN</td>\n",
       "    </tr>\n",
       "    <tr>\n",
       "      <th>2</th>\n",
       "      <td>6348346</td>\n",
       "      <td>853912</td>\n",
       "      <td>2021-11-11 16:00:00</td>\n",
       "      <td>17415.0</td>\n",
       "      <td>18222.0</td>\n",
       "      <td>17415.0</td>\n",
       "      <td>807.0</td>\n",
       "    </tr>\n",
       "    <tr>\n",
       "      <th>3</th>\n",
       "      <td>6591767</td>\n",
       "      <td>853912</td>\n",
       "      <td>2022-03-19 18:00:00</td>\n",
       "      <td>26138.0</td>\n",
       "      <td>26237.0</td>\n",
       "      <td>26138.0</td>\n",
       "      <td>99.0</td>\n",
       "    </tr>\n",
       "    <tr>\n",
       "      <th>4</th>\n",
       "      <td>6487142</td>\n",
       "      <td>953519</td>\n",
       "      <td>2022-02-06 09:00:00</td>\n",
       "      <td>127755.0</td>\n",
       "      <td>127780.0</td>\n",
       "      <td>127755.0</td>\n",
       "      <td>25.0</td>\n",
       "    </tr>\n",
       "  </tbody>\n",
       "</table>\n",
       "</div>"
      ],
      "text/plain": [
       "        id  car_id     precise_ends_at  checkin_mileage  checkout_mileage  \\\n",
       "0  6131009  853912 2021-08-15 21:30:00          11837.0           13314.0   \n",
       "1  6268885  853912 2021-09-26 17:30:00              NaN           15016.0   \n",
       "2  6348346  853912 2021-11-11 16:00:00          17415.0           18222.0   \n",
       "3  6591767  853912 2022-03-19 18:00:00          26138.0           26237.0   \n",
       "4  6487142  953519 2022-02-06 09:00:00         127755.0          127780.0   \n",
       "\n",
       "   previous_checkout_mileage  mileage_run  \n",
       "0                    11837.0       1477.0  \n",
       "1                        NaN          NaN  \n",
       "2                    17415.0        807.0  \n",
       "3                    26138.0         99.0  \n",
       "4                   127755.0         25.0  "
      ]
     },
     "execution_count": 5,
     "metadata": {},
     "output_type": "execute_result"
    }
   ],
   "source": [
    "df.head()"
   ]
  },
  {
   "cell_type": "code",
   "execution_count": 6,
   "id": "6cbd3cf3",
   "metadata": {},
   "outputs": [
    {
     "data": {
      "text/plain": [
       "<AxesSubplot:>"
      ]
     },
     "execution_count": 6,
     "metadata": {},
     "output_type": "execute_result"
    },
    {
     "data": {
      "image/png": "[encoded data removed]",
      "text/plain": [
       "<Figure size 432x288 with 1 Axes>"
      ]
     },
     "metadata": {
      "needs_background": "light"
     },
     "output_type": "display_data"
    }
   ],
   "source": [
    "df.boxplot('mileage_run')"
   ]
  },
  {
   "cell_type": "code",
   "execution_count": 7,
   "id": "a26dd3d4",
   "metadata": {},
   "outputs": [],
   "source": [
    "df = df[df['mileage_run']>0]"
   ]
  },
  {
   "cell_type": "code",
   "execution_count": 8,
   "id": "f7d410cf",
   "metadata": {
    "scrolled": true
   },
   "outputs": [
    {
     "data": {
      "text/plain": [
       "<AxesSubplot:>"
      ]
     },
     "execution_count": 8,
     "metadata": {},
     "output_type": "execute_result"
    },
    {
     "data": {
      "image/png": "[encoded data removed]",
      "text/plain": [
       "<Figure size 432x288 with 1 Axes>"
      ]
     },
     "metadata": {
      "needs_background": "light"
     },
     "output_type": "display_data"
    }
   ],
   "source": [
    "df.boxplot('mileage_run')"
   ]
  },
  {
   "cell_type": "code",
   "execution_count": 9,
   "id": "f24d8764",
   "metadata": {},
   "outputs": [
    {
     "data": {
      "text/plain": [
       "count    3.676280e+05\n",
       "mean     7.514910e+03\n",
       "std      1.386187e+05\n",
       "min      1.000000e+00\n",
       "25%      6.400000e+01\n",
       "50%      1.550000e+02\n",
       "75%      3.560000e+02\n",
       "max      2.684350e+06\n",
       "Name: mileage_run, dtype: float64"
      ]
     },
     "execution_count": 9,
     "metadata": {},
     "output_type": "execute_result"
    }
   ],
   "source": [
    "df['mileage_run'].describe()"
   ]
  },
  {
   "cell_type": "code",
   "execution_count": 19,
   "id": "03886db4",
   "metadata": {},
   "outputs": [],
   "source": [
    "Q1 = 6.400000e+01\n",
    "Q3 = 3.560000e+02"
   ]
  },
  {
   "cell_type": "code",
   "execution_count": 20,
   "id": "f810f933",
   "metadata": {},
   "outputs": [],
   "source": [
    "IQR = Q3 - Q1"
   ]
  },
  {
   "cell_type": "code",
   "execution_count": 21,
   "id": "959d17e5",
   "metadata": {},
   "outputs": [
    {
     "data": {
      "text/plain": [
       "292.0"
      ]
     },
     "execution_count": 21,
     "metadata": {},
     "output_type": "execute_result"
    }
   ],
   "source": [
    "IQR"
   ]
  },
  {
   "cell_type": "code",
   "execution_count": 22,
   "id": "de8e72c6",
   "metadata": {},
   "outputs": [],
   "source": [
    "lower_range = Q1 - 1.5 * IQR\n",
    "upper_range = Q3 + 1.5 * IQR"
   ]
  },
  {
   "cell_type": "code",
   "execution_count": 23,
   "id": "833b9db6",
   "metadata": {},
   "outputs": [
    {
     "data": {
      "text/plain": [
       "-374.0"
      ]
     },
     "execution_count": 23,
     "metadata": {},
     "output_type": "execute_result"
    }
   ],
   "source": [
    "lower_range"
   ]
  },
  {
   "cell_type": "code",
   "execution_count": 24,
   "id": "6a43b568",
   "metadata": {},
   "outputs": [
    {
     "data": {
      "text/plain": [
       "794.0"
      ]
     },
     "execution_count": 24,
     "metadata": {},
     "output_type": "execute_result"
    }
   ],
   "source": [
    "upper_range"
   ]
  },
  {
   "cell_type": "code",
   "execution_count": 25,
   "id": "7f46dd1a",
   "metadata": {},
   "outputs": [],
   "source": [
    "df2 = df.loc[((df['mileage_run']<upper_range)\\\n",
    "       & (df['mileage_run']>lower_range))\n",
    "       | (df['mileage_run'].isna())]"
   ]
  },
  {
   "cell_type": "code",
   "execution_count": 26,
   "id": "cfef07ad",
   "metadata": {
    "scrolled": true
   },
   "outputs": [
    {
     "data": {
      "text/plain": [
       "count    340078.000000\n",
       "mean        200.200410\n",
       "std         182.794096\n",
       "min           1.000000\n",
       "25%          59.000000\n",
       "50%         138.000000\n",
       "75%         291.000000\n",
       "max         793.000000\n",
       "Name: mileage_run, dtype: float64"
      ]
     },
     "execution_count": 26,
     "metadata": {},
     "output_type": "execute_result"
    }
   ],
   "source": [
    "df2['mileage_run'].describe()"
   ]
  },
  {
   "cell_type": "code",
   "execution_count": 27,
   "id": "eb85a863",
   "metadata": {},
   "outputs": [
    {
     "data": {
      "text/plain": [
       "<AxesSubplot:>"
      ]
     },
     "execution_count": 27,
     "metadata": {},
     "output_type": "execute_result"
    },
    {
     "data": {
      "image/png": "[encoded data removed]",
      "text/plain": [
       "<Figure size 432x288 with 1 Axes>"
      ]
     },
     "metadata": {
      "needs_background": "light"
     },
     "output_type": "display_data"
    }
   ],
   "source": [
    "df2.boxplot('mileage_run')"
   ]
  },
  {
   "cell_type": "code",
   "execution_count": null,
   "id": "bc889fe7",
   "metadata": {},
   "outputs": [],
   "source": []
  }
 ],
 "metadata": {
  "kernelspec": {
   "display_name": "Python 3 (ipykernel)",
   "language": "python",
   "name": "python3"
  },
  "language_info": {
   "codemirror_mode": {
    "name": "ipython",
    "version": 3
   },
   "file_extension": ".py",
   "mimetype": "text/x-python",
   "name": "python",
   "nbconvert_exporter": "python",
   "pygments_lexer": "ipython3",
   "version": "3.8.12"
  },
  "toc": {
   "base_numbering": 1,
   "nav_menu": {},
   "number_sections": true,
   "sideBar": true,
   "skip_h1_title": false,
   "title_cell": "Table of Contents",
   "title_sidebar": "Contents",
   "toc_cell": false,
   "toc_position": {},
   "toc_section_display": true,
   "toc_window_display": false
  }
 },
 "nbformat": 4,
 "nbformat_minor": 5
}
